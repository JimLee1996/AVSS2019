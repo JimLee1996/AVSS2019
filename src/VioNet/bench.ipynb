{
 "cells": [
  {
   "cell_type": "code",
   "execution_count": null,
   "metadata": {},
   "outputs": [],
   "source": [
    "import time\n",
    "\n",
    "import numpy as np\n",
    "\n",
    "import torch\n",
    "import torch.nn as nn\n",
    "import torch.backends.cudnn as cudnn\n",
    "\n",
    "from models.densenet import densenet88\n",
    "from models.c3d import C3D\n",
    "from models.convlstm import ConvLSTM"
   ]
  },
  {
   "cell_type": "code",
   "execution_count": null,
   "metadata": {},
   "outputs": [],
   "source": [
    "def measure(model, x, y=None):\n",
    "    # synchronize gpu time and measure forward-pass time\n",
    "    torch.cuda.synchronize()\n",
    "    t0 = time.time()\n",
    "    y_pred = model(x)\n",
    "    torch.cuda.synchronize()\n",
    "    elapsed_fp = time.time() - t0\n",
    "    if y == None:\n",
    "        return elapsed_fp, None\n",
    "\n",
    "    # zero gradients, synchronize gpu time and measure backward-pass time\n",
    "    model.zero_grad()\n",
    "    t0 = time.time()\n",
    "    y_pred.backward(y)\n",
    "    torch.cuda.synchronize()\n",
    "    elapsed_bp = time.time() - t0\n",
    "    return elapsed_fp, elapsed_bp\n",
    "\n",
    "def benchmark(model, x, y=None):\n",
    "\n",
    "    # dry runs to warm-up\n",
    "    for _ in range(5):\n",
    "        _, _ = measure(model, x, y)\n",
    "\n",
    "    print('DONE WITH DRY RUNS, NOW BENCHMARKING')\n",
    "\n",
    "    # start benchmarking\n",
    "    t_forward = []\n",
    "    t_backward = []\n",
    "    for _ in range(10):\n",
    "        t_fp, t_bp = measure(model, x, y)\n",
    "        t_forward.append(t_fp)\n",
    "        t_backward.append(t_bp)\n",
    "\n",
    "    return t_forward, t_backward\n",
    "\n",
    "def result(t_list):\n",
    "    t_array = np.asarray(t_list)\n",
    "    avg = np.mean(t_array) * 1e3\n",
    "    std = np.std(t_array) * 1e3\n",
    "    \n",
    "    print(\n",
    "        avg, 'ms', '+/-',\n",
    "        std, 'ms'\n",
    "    )\n",
    "    \n",
    "    return avg, std\n",
    "    "
   ]
  },
  {
   "cell_type": "code",
   "execution_count": null,
   "metadata": {},
   "outputs": [],
   "source": [
    "use_cuda = True\n",
    "multigpus = True\n",
    "\n",
    "# set cudnn backend to benchmark config\n",
    "cudnn.benchmark = True\n",
    "device = torch.device('cuda')"
   ]
  },
  {
   "cell_type": "code",
   "execution_count": null,
   "metadata": {},
   "outputs": [],
   "source": [
    "densenet88 = densenet88(num_classes=2, sample_size=112, sample_duration=16).eval().to(device)\n",
    "c3d = C3D(num_classes=2).eval().to(device)\n",
    "convlstm = ConvLSTM(256, device).eval().to(device)\n",
    "\n",
    "result_list = []\n",
    "\n",
    "for batch_size in [1, 8, 16]:\n",
    "    batch_list = []\n",
    "    x = torch.rand(batch_size, 3, 16, 112, 112).to(device)\n",
    "    t_forward,_ = benchmark(densenet88,x)\n",
    "    avg, _ = result(t_forward)\n",
    "    batch_list.append(avg)\n",
    "    t_forward,_ = benchmark(c3d,x)\n",
    "    avg, _ = result(t_forward)\n",
    "    batch_list.append(avg)\n",
    "    x = torch.rand(batch_size, 3, 2, 224, 224).to(device)\n",
    "    t_forward,_ = benchmark(convlstm, x)\n",
    "    avg, _ = result(t_forward)\n",
    "    batch_list.append(avg)\n",
    "    result_list.append(batch_list)"
   ]
  },
  {
   "cell_type": "code",
   "execution_count": null,
   "metadata": {},
   "outputs": [],
   "source": [
    "import numpy as np\n",
    "\n",
    "data = np.array(result_list)"
   ]
  },
  {
   "cell_type": "code",
   "execution_count": null,
   "metadata": {},
   "outputs": [],
   "source": [
    "data"
   ]
  },
  {
   "cell_type": "code",
   "execution_count": null,
   "metadata": {},
   "outputs": [],
   "source": []
  }
 ],
 "metadata": {
  "kernelspec": {
   "display_name": "Python 3",
   "language": "python",
   "name": "python3"
  },
  "language_info": {
   "codemirror_mode": {
    "name": "ipython",
    "version": 3
   },
   "file_extension": ".py",
   "mimetype": "text/x-python",
   "name": "python",
   "nbconvert_exporter": "python",
   "pygments_lexer": "ipython3",
   "version": "3.7.4"
  }
 },
 "nbformat": 4,
 "nbformat_minor": 4
}
