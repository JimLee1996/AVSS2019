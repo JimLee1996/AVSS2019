{
 "cells": [
  {
   "cell_type": "code",
   "execution_count": null,
   "metadata": {},
   "outputs": [],
   "source": [
    "import torch\n",
    "import torch.nn as nn\n",
    "import torch.backends.cudnn as cudnn\n",
    "\n",
    "from models.densenet import densenet88\n",
    "from models.c3d import C3D\n",
    "from models.convlstm import ConvLSTM\n",
    "\n",
    "from torchsummary import summary\n",
    "from thop import profile"
   ]
  },
  {
   "cell_type": "code",
   "execution_count": null,
   "metadata": {},
   "outputs": [],
   "source": [
    "use_cuda = True\n",
    "multigpus = True\n",
    "\n",
    "# set cudnn backend to benchmark config\n",
    "cudnn.benchmark = True\n",
    "device = torch.device('cpu')"
   ]
  },
  {
   "cell_type": "code",
   "execution_count": null,
   "metadata": {},
   "outputs": [],
   "source": [
    "densenet88 = densenet88(num_classes=2, sample_size=112, sample_duration=16).eval().to(device)\n",
    "c3d = C3D(num_classes=2).eval().to(device)\n",
    "convlstm = ConvLSTM(256, device).eval().to(device)"
   ]
  },
  {
   "cell_type": "code",
   "execution_count": null,
   "metadata": {},
   "outputs": [],
   "source": [
    "model = densenet88(num_classes=2, sample_size=112, sample_duration=16).eval().to(device)\n",
    "# summary(convlstm,(3,16,224,224))\n",
    "flops, params = profile(model, input_size=(1, 3, 16, 112,112))"
   ]
  },
  {
   "cell_type": "code",
   "execution_count": null,
   "metadata": {},
   "outputs": [],
   "source": [
    "flops"
   ]
  },
  {
   "cell_type": "code",
   "execution_count": null,
   "metadata": {},
   "outputs": [],
   "source": []
  }
 ],
 "metadata": {
  "kernelspec": {
   "display_name": "Python 3",
   "language": "python",
   "name": "python3"
  },
  "language_info": {
   "codemirror_mode": {
    "name": "ipython",
    "version": 3
   },
   "file_extension": ".py",
   "mimetype": "text/x-python",
   "name": "python",
   "nbconvert_exporter": "python",
   "pygments_lexer": "ipython3",
   "version": "3.7.4"
  }
 },
 "nbformat": 4,
 "nbformat_minor": 4
}
