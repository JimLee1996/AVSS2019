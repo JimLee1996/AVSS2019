{
 "cells": [
  {
   "cell_type": "code",
   "execution_count": null,
   "metadata": {},
   "outputs": [],
   "source": [
    "import os\n",
    "import sys\n",
    "import json"
   ]
  },
  {
   "cell_type": "code",
   "execution_count": null,
   "metadata": {},
   "outputs": [],
   "source": [
    "from sklearn.model_selection import KFold"
   ]
  },
  {
   "cell_type": "code",
   "execution_count": null,
   "metadata": {},
   "outputs": [],
   "source": [
    "database_path = 'mix_jpg'"
   ]
  },
  {
   "cell_type": "code",
   "execution_count": null,
   "metadata": {},
   "outputs": [],
   "source": [
    "labels = os.listdir(database_path)"
   ]
  },
  {
   "cell_type": "code",
   "execution_count": null,
   "metadata": {},
   "outputs": [],
   "source": [
    "no_dir = os.path.join(database_path,'no')\n",
    "fi_dir = os.path.join(database_path,'fi')"
   ]
  },
  {
   "cell_type": "code",
   "execution_count": null,
   "metadata": {},
   "outputs": [],
   "source": [
    "no_data = os.listdir(no_dir)\n",
    "fi_data = os.listdir(fi_dir)"
   ]
  },
  {
   "cell_type": "code",
   "execution_count": null,
   "metadata": {},
   "outputs": [],
   "source": [
    "kf = KFold(n_splits=5, shuffle=True)"
   ]
  },
  {
   "cell_type": "code",
   "execution_count": null,
   "metadata": {},
   "outputs": [],
   "source": [
    "k_no = kf.split(no_data)\n",
    "k_fi = kf.split(fi_data)"
   ]
  },
  {
   "cell_type": "code",
   "execution_count": null,
   "metadata": {},
   "outputs": [],
   "source": [
    "# for each fold\n",
    "i = 0\n",
    "for (no_train_index, no_test_index), (fi_train_index, fi_test_index) in zip(k_no, k_fi):\n",
    "    \n",
    "    i += 1\n",
    "    \n",
    "    no_train, no_test = [no_data[x] for x in no_train_index], [no_data[x] for x in no_test_index]\n",
    "    fi_train, fi_test = [fi_data[x] for x in fi_train_index], [fi_data[x] for x in fi_test_index]\n",
    "\n",
    "    train_database = {}\n",
    "    \n",
    "    for file_name in no_train:\n",
    "        name, _ = os.path.splitext(file_name)\n",
    "        train_database[name] = {}\n",
    "        train_database[name]['subset'] = 'training'\n",
    "        train_database[name]['annotations'] = {'label': 'no'}\n",
    "    for file_name in fi_train:\n",
    "        name, _ = os.path.splitext(file_name)\n",
    "        train_database[name] = {}\n",
    "        train_database[name]['subset'] = 'training'\n",
    "        train_database[name]['annotations'] = {'label': 'fi'}\n",
    "        \n",
    "    val_database = {}\n",
    "    \n",
    "    for file_name in no_test:\n",
    "        name, _ = os.path.splitext(file_name)\n",
    "        val_database[name] = {}\n",
    "        val_database[name]['subset'] = 'validation'\n",
    "        val_database[name]['annotations'] = {'label': 'no'}\n",
    "    for file_name in fi_test:\n",
    "        name, _ = os.path.splitext(file_name)\n",
    "        val_database[name] = {}\n",
    "        val_database[name]['subset'] = 'validation'\n",
    "        val_database[name]['annotations'] = {'label': 'fi'}\n",
    "\n",
    "    \n",
    "    dst_json_path = database_path + str(i) + '.json'\n",
    "    \n",
    "    dst_data= {}\n",
    "    \n",
    "    dst_data['labels'] = labels\n",
    "    \n",
    "    dst_data['database'] = {}\n",
    "    dst_data['database'].update(train_database)\n",
    "    dst_data['database'].update(val_database)\n",
    "    \n",
    "    with open(dst_json_path, 'w') as dst_file:\n",
    "            json.dump(dst_data, dst_file)\n",
    "    "
   ]
  }
 ],
 "metadata": {
  "kernelspec": {
   "display_name": "Python 3",
   "language": "python",
   "name": "python3"
  },
  "language_info": {
   "codemirror_mode": {
    "name": "ipython",
    "version": 3
   },
   "file_extension": ".py",
   "mimetype": "text/x-python",
   "name": "python",
   "nbconvert_exporter": "python",
   "pygments_lexer": "ipython3",
   "version": "3.6.8"
  }
 },
 "nbformat": 4,
 "nbformat_minor": 2
}
