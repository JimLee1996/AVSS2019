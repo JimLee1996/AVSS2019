{
 "cells": [
  {
   "cell_type": "code",
   "execution_count": null,
   "metadata": {},
   "outputs": [],
   "source": [
    "import os\n",
    "import sys\n",
    "import json\n",
    "\n",
    "from sklearn.model_selection import train_test_split"
   ]
  },
  {
   "cell_type": "code",
   "execution_count": null,
   "metadata": {},
   "outputs": [],
   "source": [
    "def load_labels(database_path):\n",
    "    if os.path.isdir(database_path):\n",
    "        labels = os.listdir(database_path)\n",
    "\n",
    "    return labels\n",
    "\n",
    "\n",
    "def get_dataset(database_path):\n",
    "    if not os.path.exists(database_path):\n",
    "        raise IOError('not exist path')\n",
    "    no_dir = os.path.join(database_path, 'no')\n",
    "    fi_dir = os.path.join(database_path, 'fi')\n",
    "\n",
    "    no_data = os.listdir(no_dir)\n",
    "    fi_data = os.listdir(fi_dir)\n",
    "\n",
    "    no_train, no_test = train_test_split(no_data, test_size=0.2, shuffle=True)\n",
    "    fi_train, fi_test = train_test_split(fi_data, test_size=0.2, shuffle=True)\n",
    "\n",
    "    train_database = {}\n",
    "    for file_name in no_train:\n",
    "        name, _ = os.path.splitext(file_name)\n",
    "        train_database[name] = {}\n",
    "        train_database[name]['subset'] = 'training'\n",
    "        train_database[name]['annotations'] = {'label': 'no'}\n",
    "    for file_name in fi_train:\n",
    "        name, _ = os.path.splitext(file_name)\n",
    "        train_database[name] = {}\n",
    "        train_database[name]['subset'] = 'training'\n",
    "        train_database[name]['annotations'] = {'label': 'fi'}\n",
    "\n",
    "    val_database = {}\n",
    "    for file_name in no_test:\n",
    "        name, _ = os.path.splitext(file_name)\n",
    "        val_database[name] = {}\n",
    "        val_database[name]['subset'] = 'validation'\n",
    "        val_database[name]['annotations'] = {'label': 'no'}\n",
    "    for file_name in fi_test:\n",
    "        name, _ = os.path.splitext(file_name)\n",
    "        val_database[name] = {}\n",
    "        val_database[name]['subset'] = 'validation'\n",
    "        val_database[name]['annotations'] = {'label': 'fi'}\n",
    "\n",
    "    return train_database, val_database\n",
    "\n",
    "\n",
    "def generate_annotation(database_path, dst_json_path):\n",
    "    labels = load_labels(database_path)\n",
    "    train_database, val_database = get_dataset(database_path)\n",
    "\n",
    "    dst_data = {}\n",
    "    dst_data['labels'] = labels\n",
    "    dst_data['database'] = {}\n",
    "    dst_data['database'].update(train_database)\n",
    "    dst_data['database'].update(val_database)\n",
    "\n",
    "    with open(dst_json_path, 'w') as dst_file:\n",
    "        json.dump(dst_data, dst_file)"
   ]
  },
  {
   "cell_type": "code",
   "execution_count": null,
   "metadata": {},
   "outputs": [],
   "source": [
    "database_path = 'mix_jpg'\n",
    "dst_json_path = database_path + '.json'\n",
    "\n",
    "generate_annotation(database_path, dst_json_path)"
   ]
  },
  {
   "cell_type": "code",
   "execution_count": null,
   "metadata": {},
   "outputs": [],
   "source": []
  }
 ],
 "metadata": {
  "kernelspec": {
   "display_name": "Python 3",
   "language": "python",
   "name": "python3"
  },
  "language_info": {
   "codemirror_mode": {
    "name": "ipython",
    "version": 3
   },
   "file_extension": ".py",
   "mimetype": "text/x-python",
   "name": "python",
   "nbconvert_exporter": "python",
   "pygments_lexer": "ipython3",
   "version": "3.7.4"
  }
 },
 "nbformat": 4,
 "nbformat_minor": 4
}
